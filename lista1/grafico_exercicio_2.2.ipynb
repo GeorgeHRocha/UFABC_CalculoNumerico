{
 "cells": [
  {
   "cell_type": "code",
   "execution_count": 1,
   "source": [
    "import matplotlib.pyplot as plt\r\n",
    "\r\n",
    "# EXERCÍCIO 2.2\r\n",
    "\r\n",
    "n = 20\r\n",
    "p = 0\r\n",
    "\r\n",
    "a = 0\r\n",
    "b = 1\r\n",
    "h = (b - a) / n\r\n",
    "\r\n",
    "def fi(x, q):\r\n",
    "    return 2 + h ** 2 * q - ((1 - ((h ** 2) / 4) * p ** 2)) / x\r\n",
    "\r\n",
    "def min_diag(q):\r\n",
    "    ui = 2 + h ** 2 * q\r\n",
    "    uis = [ui]\r\n",
    "    for i in range (1, n - 1):\r\n",
    "        ui = fi(ui, q)\r\n",
    "        uis.append(ui)\r\n",
    "\r\n",
    "    return min(uis)\r\n",
    "\r\n",
    "qs = []  # x\r\n",
    "min_diags = []  # y\r\n",
    "for i in range(0, 101):\r\n",
    "    q = -10 + i * (1 / 10)\r\n",
    "    qs.append(q)\r\n",
    "    min_diags.append(min_diag(q))\r\n",
    "\r\n",
    "plt.plot(qs, min_diags)\r\n",
    "plt.xlabel('q')\r\n",
    "plt.ylabel('minDiag(q)')\r\n",
    "plt.title('Gráfico da função minDiag(q) no intervalo [-10, 0]')\r\n",
    "plt.grid(True)\r\n"
   ],
   "outputs": [],
   "metadata": {}
  }
 ],
 "metadata": {
  "interpreter": {
   "hash": "121bac73d7c4618ef4e0c2b691958e5e6773cd53c6a5d6c8e8ab53981e5af7f6"
  },
  "kernelspec": {
   "name": "python3",
   "display_name": "Python 3.8.3 64-bit ('base': conda)"
  },
  "language_info": {
   "codemirror_mode": {
    "name": "ipython",
    "version": 3
   },
   "file_extension": ".py",
   "mimetype": "text/x-python",
   "name": "python",
   "nbconvert_exporter": "python",
   "pygments_lexer": "ipython3",
   "version": "3.8.3"
  },
  "orig_nbformat": 4
 },
 "nbformat": 4,
 "nbformat_minor": 2
}